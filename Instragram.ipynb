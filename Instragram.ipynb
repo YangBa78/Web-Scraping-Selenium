{
 "metadata": {
  "language_info": {
   "codemirror_mode": {
    "name": "ipython",
    "version": 3
   },
   "file_extension": ".py",
   "mimetype": "text/x-python",
   "name": "python",
   "nbconvert_exporter": "python",
   "pygments_lexer": "ipython3",
   "version": "3.9.2-final"
  },
  "orig_nbformat": 2,
  "kernelspec": {
   "name": "python3",
   "display_name": "Python 3.9.2 64-bit",
   "metadata": {
    "interpreter": {
     "hash": "9eb19ede3397e07d50cbe8e478a8bfd430cc9bfa71eb6aea9cfbe72d8021b9ac"
    }
   }
  }
 },
 "nbformat": 4,
 "nbformat_minor": 2,
 "cells": [
  {
   "source": [
    "Imports"
   ],
   "cell_type": "markdown",
   "metadata": {}
  },
  {
   "cell_type": "code",
   "execution_count": 1,
   "metadata": {},
   "outputs": [],
   "source": [
    "# Selenium imports here\n",
    "from selenium import webdriver\n",
    "from selenium.webdriver.common.keys import Keys\n",
    "from selenium.webdriver.common.by import By\n",
    "from selenium.webdriver.support.ui import WebDriverWait\n",
    "from selenium.webdriver.support import expected_conditions as EC"
   ]
  },
  {
   "source": [
    "import os\n",
    "import wget"
   ],
   "cell_type": "code",
   "metadata": {},
   "execution_count": 43,
   "outputs": []
  },
  {
   "source": [
    "Log In to your Instagram account"
   ],
   "cell_type": "markdown",
   "metadata": {}
  },
  {
   "cell_type": "code",
   "execution_count": 23,
   "metadata": {},
   "outputs": [],
   "source": [
    "PATH = \"C:\\Program Files (x86)\\chromedriver.exe\"\n",
    "driver = webdriver.Chrome(PATH)\n",
    "driver.get('https://www.instagram.com/')"
   ]
  },
  {
   "cell_type": "code",
   "execution_count": 24,
   "metadata": {},
   "outputs": [],
   "source": [
    "username = WebDriverWait(driver, 10).until(EC.element_to_be_clickable((By.CSS_SELECTOR, \"input[name = username]\")))\n",
    "password = WebDriverWait(driver, 10).until(EC.element_to_be_clickable((By.CSS_SELECTOR, \"input[name = password]\")))\n",
    "\n",
    "username.clear()\n",
    "password.clear()\n",
    "\n",
    "username.send_keys(\"bayang0803\")\n",
    "password.send_keys(\"alex__ok\")"
   ]
  },
  {
   "cell_type": "code",
   "execution_count": 25,
   "metadata": {},
   "outputs": [],
   "source": [
    "log_in = WebDriverWait(driver, 10).until(EC.element_to_be_clickable((By.CSS_SELECTOR, \"button[type='submit']\"))).click()"
   ]
  },
  {
   "cell_type": "code",
   "execution_count": 26,
   "metadata": {},
   "outputs": [],
   "source": [
    "not_now = WebDriverWait(driver, 10).until(EC.element_to_be_clickable((By.XPATH, \"//button[contains(text(), 'Not Now')]\"))).click()\n",
    "not_now2 = WebDriverWait(driver, 10).until(EC.element_to_be_clickable((By.XPATH, \"//button[contains(text(), 'Not Now')]\"))).click()"
   ]
  },
  {
   "cell_type": "code",
   "execution_count": 29,
   "metadata": {},
   "outputs": [],
   "source": [
    "searchbox = WebDriverWait(driver, 10).until(EC.element_to_be_clickable((By.XPATH, \".//input[@placeholder = 'Search']\")))\n",
    "searchbox.clear()\n",
    "keyword = \"#cat\"\n",
    "searchbox.send_keys(keyword)"
   ]
  },
  {
   "cell_type": "code",
   "execution_count": 30,
   "metadata": {},
   "outputs": [],
   "source": [
    "searchbox.send_keys(Keys.ENTER)"
   ]
  },
  {
   "cell_type": "code",
   "execution_count": 34,
   "metadata": {},
   "outputs": [
    {
     "output_type": "execute_result",
     "data": {
      "text/plain": [
       "['https://scontent-bos3-1.cdninstagram.com/v/t51.2885-15/e35/c0.179.1440.1440a/s150x150/153535833_768788124032706_1753446853739924088_n.jpg?tp=1&_nc_ht=scontent-bos3-1.cdninstagram.com&_nc_cat=1&_nc_ohc=siHidShJpdEAX_uLINn&oh=a906a2c2de18a63a398cf11bd0c40241&oe=6065F7DC',\n",
       " 'https://scontent-bos3-1.cdninstagram.com/v/t51.2885-15/sh0.08/e35/c0.54.915.915a/s640x640/154396930_2753312591648987_1531298054325279137_n.jpg?tp=1&_nc_ht=scontent-bos3-1.cdninstagram.com&_nc_cat=1&_nc_ohc=LBiaEE8bC2YAX_2HCkB&oh=8bd6703ef37175b68936103ad16229e6&oe=6064DA20',\n",
       " 'https://scontent-bos3-1.cdninstagram.com/v/t51.2885-15/e15/151636569_437495437362835_3623564800663830614_n.jpg?tp=1&_nc_ht=scontent-bos3-1.cdninstagram.com&_nc_cat=1&_nc_ohc=jbaoXergKJsAX8LN1s3&oh=244deb38b14419cf75afe66a75622506&oe=603D7909',\n",
       " 'https://scontent-bos3-1.cdninstagram.com/v/t51.2885-15/sh0.08/e35/s640x640/154066071_871244996837199_5171340850390651188_n.jpg?tp=1&_nc_ht=scontent-bos3-1.cdninstagram.com&_nc_cat=1&_nc_ohc=zsTmQx6JNxAAX8iwxtj&oh=ffee637b1466bc8f12e9920465bb9ab4&oe=60640B64',\n",
       " 'https://scontent-bos3-1.cdninstagram.com/v/t51.2885-15/sh0.08/e35/c0.63.700.700a/s640x640/154482658_175841937636590_2868975573783555498_n.jpg?tp=1&_nc_ht=scontent-bos3-1.cdninstagram.com&_nc_cat=1&_nc_ohc=N5HLWSai7VAAX9bg2yS&oh=cb7ba891cddf989adec55d5a9000f7b0&oe=6063D2E4',\n",
       " 'https://scontent-bos3-1.cdninstagram.com/v/t51.2885-15/sh0.08/e35/c193.0.1053.1053a/s640x640/154348787_2824794994449681_8988666418169663692_n.jpg?tp=1&_nc_ht=scontent-bos3-1.cdninstagram.com&_nc_cat=109&_nc_ohc=NlqrvTcdagcAX9nX1e6&oh=8647f86f01291a94abeded4b011c70cc&oe=60647328',\n",
       " 'https://scontent-bos3-1.cdninstagram.com/v/t51.2885-15/sh0.08/e35/s640x640/155281625_1320354011672533_7205470799183617462_n.jpg?tp=1&_nc_ht=scontent-bos3-1.cdninstagram.com&_nc_cat=1&_nc_ohc=yGVp3adcaEEAX9Ayonu&oh=7db7fe7aaa722ce923817c74e1c8bfb1&oe=6062BFC2',\n",
       " 'https://scontent-bos3-1.cdninstagram.com/v/t51.2885-15/sh0.08/e35/s640x640/154343560_428125738251202_7072015599197981741_n.jpg?tp=1&_nc_ht=scontent-bos3-1.cdninstagram.com&_nc_cat=110&_nc_ohc=GMFgj5w2MtkAX9iy_Uc&oh=1685aa87eec11781246e04f540794518&oe=6064D79A',\n",
       " 'https://scontent-bos3-1.cdninstagram.com/v/t51.2885-15/e35/153605129_2902716756663948_5913750856544844266_n.jpg?tp=1&_nc_ht=scontent-bos3-1.cdninstagram.com&_nc_cat=1&_nc_ohc=KFIGTRxw4TcAX9YNcj7&oh=85ac8126f80eb0f6eb766b831b15c4c2&oe=6064AAB2',\n",
       " 'https://scontent-bos3-1.cdninstagram.com/v/t51.2885-15/sh0.08/e35/c240.0.960.960a/s640x640/155888621_333594281388350_3671565043549520894_n.jpg?tp=1&_nc_ht=scontent-bos3-1.cdninstagram.com&_nc_cat=102&_nc_ohc=hCmMyOtyOnQAX9WciRf&oh=3e29dbee6f898e7bd328ac7973631236&oe=60640545',\n",
       " 'https://scontent-bos3-1.cdninstagram.com/v/t51.2885-15/sh0.08/e35/s640x640/155058777_334477101315303_5094297006353778535_n.jpg?tp=1&_nc_ht=scontent-bos3-1.cdninstagram.com&_nc_cat=103&_nc_ohc=J4SL1vheQiEAX8EXm1L&oh=e7c17be5bb8a849ff1b2c98db677d1b1&oe=603D64F4',\n",
       " 'https://scontent-bos3-1.cdninstagram.com/v/t51.2885-15/e15/154071496_1111936602655197_6526999335645582966_n.jpg?tp=1&_nc_ht=scontent-bos3-1.cdninstagram.com&_nc_cat=109&_nc_ohc=Nx5BcXiizbgAX-ppcws&oh=6950e1c7be9b95d03150b6c9a0b3f857&oe=6064114F',\n",
       " 'https://scontent-bos3-1.cdninstagram.com/v/t51.2885-15/sh0.08/e35/c0.180.1440.1440a/s640x640/154411393_427611825142196_1726167567357955028_n.jpg?tp=1&_nc_ht=scontent-bos3-1.cdninstagram.com&_nc_cat=108&_nc_ohc=BiTO4TsD4L4AX9U2L8D&oh=219b6b47fc92fd53ba5e83a34c2bb1b3&oe=6062AD31',\n",
       " 'https://scontent-bos3-1.cdninstagram.com/v/t51.2885-15/sh0.08/e35/c0.180.1440.1440a/s640x640/154569305_490805928580380_4637783233136166430_n.jpg?tp=1&_nc_ht=scontent-bos3-1.cdninstagram.com&_nc_cat=100&_nc_ohc=1rdjOAvd25AAX8yBmb1&oh=2f27ca80b0134a01c1cc58ef1b03e0c8&oe=60658B57',\n",
       " 'https://scontent-bos3-1.cdninstagram.com/v/t51.2885-15/sh0.08/e35/c0.173.1385.1385a/s640x640/154879538_195107132393810_5032907138158051214_n.jpg?tp=1&_nc_ht=scontent-bos3-1.cdninstagram.com&_nc_cat=102&_nc_ohc=iygmA4WJt9UAX_Dffpk&oh=9f06e499498d4aab82bdb43520642181&oe=60666A5C',\n",
       " 'https://scontent-bos3-1.cdninstagram.com/v/t51.2885-15/sh0.08/e35/s640x640/154909405_154374346517921_5585439555925115474_n.jpg?tp=1&_nc_ht=scontent-bos3-1.cdninstagram.com&_nc_cat=105&_nc_ohc=JAqywWQgZ6QAX_U0x2J&oh=42445a4410da2815549cda951ca85473&oe=603D47D2',\n",
       " 'https://scontent-bos3-1.cdninstagram.com/v/t51.2885-15/sh0.08/e35/s640x640/154407499_1064114310766423_2265259593046166292_n.jpg?tp=1&_nc_ht=scontent-bos3-1.cdninstagram.com&_nc_cat=107&_nc_ohc=q3GWWVGof0UAX9Xdlov&oh=dcb12873596ce9262f3a83e6a2a34ebc&oe=6064BA75',\n",
       " 'https://scontent-bos3-1.cdninstagram.com/v/t51.2885-15/sh0.08/e35/c141.0.1157.1157a/s640x640/154110364_1290628541317103_4640367330415672850_n.jpg?tp=1&_nc_ht=scontent-bos3-1.cdninstagram.com&_nc_cat=111&_nc_ohc=TVsDr9hVVT0AX-QBiBE&oh=a006d0ed25e007b8108966b3df0e1f6a&oe=606517FC',\n",
       " 'https://scontent-bos3-1.cdninstagram.com/v/t51.2885-15/sh0.08/e35/s640x640/151706750_497930444930878_2646547996921939253_n.jpg?tp=1&_nc_ht=scontent-bos3-1.cdninstagram.com&_nc_cat=110&_nc_ohc=p4yMaY9IJvkAX95gtME&oh=7b8962206339fc87149bce33ecac4ec8&oe=6063408F',\n",
       " 'https://scontent-bos3-1.cdninstagram.com/v/t51.2885-15/sh0.08/e35/c11.0.1417.1417a/s640x640/155089201_595195311436289_8636130597384877409_n.jpg?tp=1&_nc_ht=scontent-bos3-1.cdninstagram.com&_nc_cat=105&_nc_ohc=kyykd6gltykAX-YmZ4P&oh=d35509192128e9a98d5888ef1aca9b16&oe=60661D4B',\n",
       " 'https://scontent-bos3-1.cdninstagram.com/v/t51.2885-15/e35/c0.60.480.480a/155770222_334734661273033_1232390815581123261_n.jpg?tp=1&_nc_ht=scontent-bos3-1.cdninstagram.com&_nc_cat=101&_nc_ohc=Um2Ew6_BcqUAX_0xJXg&oh=727b72f4d18811af22653a7fee7a6e1b&oe=603D8565',\n",
       " 'https://scontent-bos3-1.cdninstagram.com/v/t51.2885-15/sh0.08/e35/c343.0.753.753a/s640x640/154588916_334524401313165_8182954973055138928_n.jpg?tp=1&_nc_ht=scontent-bos3-1.cdninstagram.com&_nc_cat=109&_nc_ohc=9ufoQ1EG_FgAX8sewQu&oh=7d1e9fe2884be647f720cacf979dae08&oe=6063B3E1',\n",
       " 'https://scontent-bos3-1.cdninstagram.com/v/t51.2885-15/sh0.08/e35/s640x640/151777718_427586571669144_3489042256645165578_n.jpg?tp=1&_nc_ht=scontent-bos3-1.cdninstagram.com&_nc_cat=100&_nc_ohc=3N1QeQ7nn24AX9hBwvF&oh=b98dbc244acdcc778488cb59e849c79b&oe=603D7878',\n",
       " 'https://scontent-bos3-1.cdninstagram.com/v/t51.2885-15/sh0.08/e35/s640x640/154689165_469013490795284_652532934360276352_n.jpg?tp=1&_nc_ht=scontent-bos3-1.cdninstagram.com&_nc_cat=108&_nc_ohc=T1eleg7kc_gAX_my0Ys&oh=7f10582f2d9a6ce40e14a0fa285f5238&oe=60644E89',\n",
       " 'https://scontent-bos3-1.cdninstagram.com/v/t51.2885-15/sh0.08/e35/s640x640/151224065_429073338158769_5031375748028981810_n.jpg?tp=1&_nc_ht=scontent-bos3-1.cdninstagram.com&_nc_cat=109&_nc_ohc=C1UhZEomqgIAX--1QHW&oh=cf8449f117a7345cc11823695e087912&oe=606318F0',\n",
       " 'https://scontent-bos3-1.cdninstagram.com/v/t51.2885-15/sh0.08/e35/s640x640/154808317_463819508146050_491188425993462090_n.jpg?tp=1&_nc_ht=scontent-bos3-1.cdninstagram.com&_nc_cat=106&_nc_ohc=wljg_UQn0ewAX_hrwSI&oh=5811aeaf776743065669083f166a8d0a&oe=6062AE8A',\n",
       " 'https://scontent-bos3-1.cdninstagram.com/v/t51.2885-15/sh0.08/e35/s640x640/151780577_132159022140528_2323241514075378336_n.jpg?tp=1&_nc_ht=scontent-bos3-1.cdninstagram.com&_nc_cat=100&_nc_ohc=whxZ8hkh1ysAX942S6C&oh=5746648269327a03280adb7f9a81afae&oe=60636532',\n",
       " 'https://scontent-bos3-1.cdninstagram.com/v/t51.2885-15/sh0.08/e35/s640x640/155450157_2512695575704312_6617560721835000735_n.jpg?tp=1&_nc_ht=scontent-bos3-1.cdninstagram.com&_nc_cat=104&_nc_ohc=DNnWdnmuY_gAX-FQPab&oh=7b4c3bd136a3234ae0179ca325de4682&oe=60656DF7',\n",
       " 'https://scontent-bos3-1.cdninstagram.com/v/t51.2885-15/sh0.08/e35/s640x640/155007074_268727334614097_1075529901162094045_n.jpg?tp=1&_nc_ht=scontent-bos3-1.cdninstagram.com&_nc_cat=109&_nc_ohc=l3Ou11PkbtgAX8xIQxL&oh=e2e3d92af72ab05dd06ab75c500fe89f&oe=6064532E',\n",
       " 'https://scontent-bos3-1.cdninstagram.com/v/t51.2885-15/e35/c257.0.566.566a/154805826_458590312248161_578546373133605915_n.jpg?tp=1&_nc_ht=scontent-bos3-1.cdninstagram.com&_nc_cat=105&_nc_ohc=blZoCBtiM5gAX-t0qQu&oh=3e131075578d7e9102cfe52013a92a5c&oe=60648EA4',\n",
       " 'https://scontent-bos3-1.cdninstagram.com/v/t51.2885-15/sh0.08/e35/s640x640/153766929_1150487568706041_1151357191630255895_n.jpg?tp=1&_nc_ht=scontent-bos3-1.cdninstagram.com&_nc_cat=109&_nc_ohc=xEhFr8arhd8AX_tPKZc&oh=f1cf936406b6248088fce986c5ebd633&oe=603D6B02',\n",
       " 'https://scontent-bos3-1.cdninstagram.com/v/t51.2885-15/sh0.08/e35/c0.180.1440.1440a/s640x640/154406128_2491420324486100_136759106472873451_n.jpg?tp=1&_nc_ht=scontent-bos3-1.cdninstagram.com&_nc_cat=108&_nc_ohc=LGalspoLcv8AX_jv4ak&oh=ec5f8a55685ef6727d7f7c1fbc2e9823&oe=606371D2',\n",
       " 'https://scontent-bos3-1.cdninstagram.com/v/t51.2885-15/sh0.08/e35/c0.175.1406.1406a/s640x640/154971851_111764287628750_300913765158489891_n.jpg?tp=1&_nc_ht=scontent-bos3-1.cdninstagram.com&_nc_cat=102&_nc_ohc=olJw4hzzQiYAX_DxKZu&oh=4492d0209653ee2c486ae6b2dbe2a9d7&oe=60660738',\n",
       " 'https://scontent-bos3-1.cdninstagram.com/v/t51.2885-15/e35/c157.0.405.405a/155016658_254400189589543_7651659149316951003_n.jpg?tp=1&_nc_ht=scontent-bos3-1.cdninstagram.com&_nc_cat=107&_nc_ohc=yEUdF8eB1-sAX95FSvF&oh=b4d5d1c17e9ac8e8001d32ca7c11e84c&oe=603D7442',\n",
       " 'https://scontent-bos3-1.cdninstagram.com/v/t51.2885-15/sh0.08/e35/s640x640/155247992_252636129754805_2896871858654831203_n.jpg?tp=1&_nc_ht=scontent-bos3-1.cdninstagram.com&_nc_cat=105&_nc_ohc=pnpSIYZ1gKAAX8LVWlO&oh=4415729a25de89dd0617103423e3a552&oe=60651302',\n",
       " 'https://scontent-bos3-1.cdninstagram.com/v/t51.2885-15/sh0.08/e35/s640x640/154792107_464594498225049_8954897362098726798_n.jpg?tp=1&_nc_ht=scontent-bos3-1.cdninstagram.com&_nc_cat=109&_nc_ohc=84RIW5y3YvsAX87qfPK&oh=20d8ea7e97e53fa40826f7f689d5737e&oe=60630064',\n",
       " 'https://scontent-bos3-1.cdninstagram.com/v/t51.2885-15/sh0.08/e35/s640x640/153588393_1783507325146149_6879815134900423948_n.jpg?tp=1&_nc_ht=scontent-bos3-1.cdninstagram.com&_nc_cat=109&_nc_ohc=vx6gdbWv4c0AX9yc757&oh=eee6d1318dd1517bd188df22ea5071c8&oe=60649467',\n",
       " 'https://scontent-bos3-1.cdninstagram.com/v/t51.2885-15/sh0.08/e35/s640x640/154449661_199442985312760_4003313763212133007_n.jpg?tp=1&_nc_ht=scontent-bos3-1.cdninstagram.com&_nc_cat=104&_nc_ohc=fHDEx0O6qyEAX-v6HcQ&oh=d1ba07c94fa00c104881134e7dc7fa71&oe=603D96B8',\n",
       " 'https://scontent-bos3-1.cdninstagram.com/v/t51.2885-15/e35/c0.61.493.493a/155791774_1403403210029416_8675921431151185286_n.jpg?tp=1&_nc_ht=scontent-bos3-1.cdninstagram.com&_nc_cat=104&_nc_ohc=VE7GOX4KzWkAX_tVxxV&oh=c928c416f146601ca8dde90aaff885cf&oe=60665CC4',\n",
       " 'https://scontent-bos3-1.cdninstagram.com/v/t51.2885-15/sh0.08/e35/s640x640/154777021_117408923679122_5968274204854677796_n.jpg?tp=1&_nc_ht=scontent-bos3-1.cdninstagram.com&_nc_cat=102&_nc_ohc=IayPzdfmuMEAX8K-CBK&oh=4d7202059b800f500abd0f5f5c38b1bc&oe=60652938',\n",
       " 'https://scontent-bos3-1.cdninstagram.com/v/t51.2885-15/sh0.08/e35/c148.0.1144.1144a/s640x640/154743554_436610500940122_2671200987778884936_n.jpg?tp=1&_nc_ht=scontent-bos3-1.cdninstagram.com&_nc_cat=110&_nc_ohc=YAAKxVdVeewAX_0_bu_&oh=724362720cf36ddad0801fd2707db478&oe=60635F51',\n",
       " 'https://scontent-bos3-1.cdninstagram.com/v/t51.2885-15/sh0.08/e35/c180.0.1080.1080a/s640x640/154781811_2772543226319489_904671175658602617_n.jpg?tp=1&_nc_ht=scontent-bos3-1.cdninstagram.com&_nc_cat=105&_nc_ohc=dEu43PB1C_UAX9x-fa4&oh=8b2f0666bf20bc7ad4c7bdf8853e4863&oe=6065BAEF',\n",
       " 'https://scontent-bos3-1.cdninstagram.com/v/t51.2885-15/sh0.08/e35/s640x640/152767769_1900861230079641_8603643591688293241_n.jpg?tp=1&_nc_ht=scontent-bos3-1.cdninstagram.com&_nc_cat=109&_nc_ohc=hmweTR_YP7MAX8l3CLS&oh=8ccdda0f9614344c0da2c822beba9ed9&oe=60641741',\n",
       " 'https://scontent-bos3-1.cdninstagram.com/v/t51.2885-15/sh0.08/e35/s640x640/154648041_181027720187531_2898101457285849332_n.jpg?tp=1&_nc_ht=scontent-bos3-1.cdninstagram.com&_nc_cat=111&_nc_ohc=1WDhFak6FpgAX_vZF1K&oh=981b5327f0ff5aafbcdbb9866efb6bea&oe=60651225',\n",
       " 'https://scontent-bos3-1.cdninstagram.com/v/t51.2885-15/sh0.08/e35/s640x640/154693035_480912283064904_7893263003309929281_n.jpg?tp=1&_nc_ht=scontent-bos3-1.cdninstagram.com&_nc_cat=100&_nc_ohc=5MuqVfai1A0AX8Wf728&oh=1c31756f3df4843cd3f33bafd4de7093&oe=60656F1B',\n",
       " 'https://scontent-bos3-1.cdninstagram.com/v/t51.2885-15/sh0.08/e35/s640x640/154193882_1157216651401067_575043513771149913_n.jpg?tp=1&_nc_ht=scontent-bos3-1.cdninstagram.com&_nc_cat=111&_nc_ohc=Y1gnfsyEbqsAX-y2p1A&oh=e3a3f81b3e307768ee48088c8add16d3&oe=603D3372',\n",
       " 'https://scontent-bos3-1.cdninstagram.com/v/t51.2885-15/e35/153519844_1183844932030017_5647918752310805594_n.jpg?tp=1&_nc_ht=scontent-bos3-1.cdninstagram.com&_nc_cat=109&_nc_ohc=XT6LBIvjLZQAX9J1HSh&oh=1a0ea5e29619b597bc6d7e420b931212&oe=603D160E',\n",
       " 'https://scontent-bos3-1.cdninstagram.com/v/t51.2885-15/sh0.08/e35/c0.25.1440.1440a/s640x640/154364078_251399179910800_214577684958147551_n.jpg?tp=1&_nc_ht=scontent-bos3-1.cdninstagram.com&_nc_cat=104&_nc_ohc=oolkuSoes-QAX80tDJ2&oh=3efdad0107b0a3a5ef0ffe608cd4f6eb&oe=6062B59B',\n",
       " 'https://scontent-bos3-1.cdninstagram.com/v/t51.2885-15/sh0.08/e35/s640x640/154365982_436830914235874_2911403811671719908_n.jpg?tp=1&_nc_ht=scontent-bos3-1.cdninstagram.com&_nc_cat=110&_nc_ohc=clIsNDtGKpIAX_vozAM&oh=1af5697d3de0c2c84e2e23d20fbd46f6&oe=60649674',\n",
       " 'https://scontent-bos3-1.cdninstagram.com/v/t51.2885-15/sh0.08/e35/s640x640/154115209_3802703106503279_6665672568437127345_n.jpg?tp=1&_nc_ht=scontent-bos3-1.cdninstagram.com&_nc_cat=111&_nc_ohc=ZxvzvFDCEyIAX_LcpwI&oh=dd92449436504971dd382646fd295a6f&oe=6064EA90',\n",
       " 'https://scontent-bos3-1.cdninstagram.com/v/t51.2885-15/sh0.08/e35/c245.0.950.950a/s640x640/151539157_123157966390847_2453338011122523442_n.jpg?tp=1&_nc_ht=scontent-bos3-1.cdninstagram.com&_nc_cat=111&_nc_ohc=HiI7yST_W2cAX_3hGu6&oh=6c33e33562f51939773280c30ddda112&oe=60647E32',\n",
       " 'https://scontent-bos3-1.cdninstagram.com/v/t51.2885-15/e35/152086351_493567425136348_9198176695590239252_n.jpg?tp=1&_nc_ht=scontent-bos3-1.cdninstagram.com&_nc_cat=104&_nc_ohc=dCP5IAB48M0AX-UrizS&oh=7cc924f69ad318732dbb9fa3e67f4057&oe=6065AF3B',\n",
       " 'https://scontent-bos3-1.cdninstagram.com/v/t51.2885-15/sh0.08/e35/s640x640/154371244_487681652640915_5193520276125164145_n.jpg?tp=1&_nc_ht=scontent-bos3-1.cdninstagram.com&_nc_cat=103&_nc_ohc=GBE1f96bwnQAX-GmCx0&oh=9c162d6a912aeb97fcabd3693d001314&oe=6065E81E',\n",
       " 'https://scontent-bos3-1.cdninstagram.com/v/t51.2885-15/sh0.08/e35/s640x640/155072408_3780290872065376_1924074707676087202_n.jpg?tp=1&_nc_ht=scontent-bos3-1.cdninstagram.com&_nc_cat=104&_nc_ohc=LYnaxQ1f2NwAX9ZGpsU&oh=6cf0bf39bc3e61d6f3c865c054bda1a0&oe=606622DE',\n",
       " 'https://scontent-bos3-1.cdninstagram.com/v/t51.2885-15/sh0.08/e35/s640x640/154824581_1071802203328496_6889806774541556720_n.jpg?tp=1&_nc_ht=scontent-bos3-1.cdninstagram.com&_nc_cat=108&_nc_ohc=lSvm128_oBoAX_-u3to&oh=f8012ba140a0eeb540862e3eb6e4ad20&oe=60647AAF',\n",
       " 'https://scontent-bos3-1.cdninstagram.com/v/t51.2885-15/sh0.08/e35/s640x640/154780184_206757634526723_7118745344124032575_n.jpg?tp=1&_nc_ht=scontent-bos3-1.cdninstagram.com&_nc_cat=111&_nc_ohc=7zHj64Dv6akAX8EUSc9&oh=13a1b86a76b54e1265954bf16f197f11&oe=606416F3',\n",
       " 'https://scontent-bos3-1.cdninstagram.com/v/t51.2885-15/sh0.08/e35/c180.0.1080.1080a/s640x640/154935481_715669109111652_5287632576674353764_n.jpg?tp=1&_nc_ht=scontent-bos3-1.cdninstagram.com&_nc_cat=100&_nc_ohc=IxsjvXVssYMAX-lG-do&oh=e357056d2427850d1b9d2b3fae492717&oe=60668DA4',\n",
       " 'https://scontent-bos3-1.cdninstagram.com/v/t51.2885-15/sh0.08/e35/s640x640/155324093_944487116296201_7486161757948767284_n.jpg?tp=1&_nc_ht=scontent-bos3-1.cdninstagram.com&_nc_cat=101&_nc_ohc=P1ODmmcEIlkAX-jhNWG&oh=c31f6f91425c16f2604e55c0fed3bd63&oe=6065F9FE',\n",
       " 'https://scontent-bos3-1.cdninstagram.com/v/t51.2885-15/sh0.08/e35/c0.180.1440.1440a/s640x640/154427728_275784083903779_768173118477547170_n.jpg?tp=1&_nc_ht=scontent-bos3-1.cdninstagram.com&_nc_cat=107&_nc_ohc=UDFC4lF9gEgAX-JdvA1&oh=678adcf4be7beaf4c0fb9f041ebaa5a5&oe=60654AE2',\n",
       " 'https://scontent-bos3-1.cdninstagram.com/v/t51.2885-15/sh0.08/e35/s640x640/155129476_484294072730473_5230625688662030096_n.jpg?tp=1&_nc_ht=scontent-bos3-1.cdninstagram.com&_nc_cat=101&_nc_ohc=jeJILbE9FHUAX9iCQaZ&oh=bac7adededcc7b09453560227ca18b68&oe=60637291',\n",
       " 'https://scontent-bos3-1.cdninstagram.com/v/t51.2885-15/sh0.08/e35/s640x640/155951498_1126853651120182_7520313473828671239_n.jpg?tp=1&_nc_ht=scontent-bos3-1.cdninstagram.com&_nc_cat=110&_nc_ohc=xaCUXl5_BwkAX9_A7nK&oh=dbb37595545a20666ae449070d506f01&oe=60667225',\n",
       " 'https://scontent-bos3-1.cdninstagram.com/v/t51.2885-15/sh0.08/e35/c0.90.720.720a/s640x640/154539518_2865358843722492_1824151833293256244_n.jpg?tp=1&_nc_ht=scontent-bos3-1.cdninstagram.com&_nc_cat=100&_nc_ohc=LZtbnoEDQ_MAX9o1Wrp&oh=7cb7890aaf3fdcb045ef858c50d90a8b&oe=603DA4A9',\n",
       " 'https://scontent-bos3-1.cdninstagram.com/v/t51.2885-15/sh0.08/e35/c0.135.1080.1080a/s640x640/154889817_474461597266040_1263461642328734394_n.jpg?tp=1&_nc_ht=scontent-bos3-1.cdninstagram.com&_nc_cat=108&_nc_ohc=f59NVP-_5cIAX8pXm-C&oh=a357e897153d3bd91b0f24d693ed89ba&oe=60632A7E',\n",
       " 'https://scontent-bos3-1.cdninstagram.com/v/t51.2885-15/sh0.08/e35/c0.180.1440.1440a/s640x640/154721140_1393465177664747_8225107242224105889_n.jpg?tp=1&_nc_ht=scontent-bos3-1.cdninstagram.com&_nc_cat=111&_nc_ohc=UBp6q0SYHacAX8dieNY&oh=304c515402562a82ec8d921b889fff7c&oe=6063586F',\n",
       " 'https://www.instagram.com/static/images/web/mobile_nav_type_logo.png/735145cfe0a4.png',\n",
       " 'https://scontent-bos3-1.cdninstagram.com/v/t51.2885-19/s150x150/11931198_1137128446300648_1580300108_a.jpg?tp=1&_nc_ht=scontent-bos3-1.cdninstagram.com&_nc_ohc=-ubG5k5nItUAX9aKmfq&oh=e308fa0ddaf6f3789f45ad8f2e2b3f4d&oe=60647E2F']"
      ]
     },
     "metadata": {},
     "execution_count": 34
    }
   ],
   "source": [
    "driver.execute_script(\"window.scrollTo(0,4000);\")\n",
    "\n",
    "images = driver.find_elements_by_tag_name('img')\n",
    "images = [image.get_attribute('src') for image in images]\n",
    "\n",
    "images"
   ]
  },
  {
   "source": [
    "Save Images to Computer"
   ],
   "cell_type": "markdown",
   "metadata": {}
  },
  {
   "cell_type": "code",
   "execution_count": 37,
   "metadata": {},
   "outputs": [
    {
     "output_type": "execute_result",
     "data": {
      "text/plain": [
       "'c:\\\\Users\\\\alex7\\\\Desktop\\\\VS Code\\\\Selenium\\\\cats'"
      ]
     },
     "metadata": {},
     "execution_count": 37
    }
   ],
   "source": [
    "path = os.getcwd()\n",
    "path = os.path.join(path, keyword[1:] + \"s\")\n",
    "\n",
    "os.mkdir(path)\n",
    "path"
   ]
  },
  {
   "cell_type": "code",
   "execution_count": 44,
   "metadata": {},
   "outputs": [],
   "source": [
    "counter = 0\n",
    "for image in images:\n",
    "    save_as = os.path.join(path, keyword[1:] + str(counter) + '.jpg')\n",
    "    wget.download(image, save_as)\n",
    "    counter += 1"
   ]
  }
 ]
}
{
 "metadata": {
  "language_info": {
   "codemirror_mode": {
    "name": "ipython",
    "version": 3
   },
   "file_extension": ".py",
   "mimetype": "text/x-python",
   "name": "python",
   "nbconvert_exporter": "python",
   "pygments_lexer": "ipython3",
   "version": "3.9.2-final"
  },
  "orig_nbformat": 2,
  "kernelspec": {
   "name": "python3",
   "display_name": "Python 3.9.2 64-bit",
   "metadata": {
    "interpreter": {
     "hash": "9eb19ede3397e07d50cbe8e478a8bfd430cc9bfa71eb6aea9cfbe72d8021b9ac"
    }
   }
  }
 },
 "nbformat": 4,
 "nbformat_minor": 2,
 "cells": [
  {
   "source": [
    "Imports"
   ],
   "cell_type": "markdown",
   "metadata": {}
  },
  {
   "cell_type": "code",
   "execution_count": 1,
   "metadata": {},
   "outputs": [],
   "source": [
    "# Selenium imports here\n",
    "from selenium import webdriver\n",
    "from selenium.webdriver.common.keys import Keys\n",
    "from selenium.webdriver.common.by import By\n",
    "from selenium.webdriver.support.ui import WebDriverWait\n",
    "from selenium.webdriver.support import expected_conditions as EC"
   ]
  },
  {
   "source": [
    "import os\n",
    "import wget"
   ],
   "cell_type": "code",
   "metadata": {},
   "execution_count": 2,
   "outputs": []
  },
  {
   "source": [
    "Log In to your Instagram account"
   ],
   "cell_type": "markdown",
   "metadata": {}
  },
  {
   "cell_type": "code",
   "execution_count": 3,
   "metadata": {},
   "outputs": [],
   "source": [
    "PATH = \"C:\\Program Files (x86)\\chromedriver.exe\"\n",
    "driver = webdriver.Chrome(PATH)\n",
    "driver.get('https://www.instagram.com/')"
   ]
  },
  {
   "cell_type": "code",
   "execution_count": 4,
   "metadata": {},
   "outputs": [],
   "source": [
    "username = WebDriverWait(driver, 10).until(EC.element_to_be_clickable((By.CSS_SELECTOR, \"input[name = username]\")))\n",
    "password = WebDriverWait(driver, 10).until(EC.element_to_be_clickable((By.CSS_SELECTOR, \"input[name = password]\")))\n",
    "\n",
    "username.clear()\n",
    "password.clear()\n",
    "\n",
    "username.send_keys(\"****\")\n",
    "password.send_keys(\"****\")"
   ]
  },
  {
   "cell_type": "code",
   "execution_count": 5,
   "metadata": {},
   "outputs": [],
   "source": [
    "log_in = WebDriverWait(driver, 10).until(EC.element_to_be_clickable((By.CSS_SELECTOR, \"button[type='submit']\"))).click()"
   ]
  },
  {
   "cell_type": "code",
   "execution_count": 6,
   "metadata": {},
   "outputs": [],
   "source": [
    "not_now = WebDriverWait(driver, 10).until(EC.element_to_be_clickable((By.XPATH, \"//button[contains(text(), 'Not Now')]\"))).click()\n",
    "not_now2 = WebDriverWait(driver, 10).until(EC.element_to_be_clickable((By.XPATH, \"//button[contains(text(), 'Not Now')]\"))).click()"
   ]
  },
  {
   "cell_type": "code",
   "execution_count": 7,
   "metadata": {},
   "outputs": [],
   "source": [
    "searchbox = WebDriverWait(driver, 10).until(EC.element_to_be_clickable((By.XPATH, \".//input[@placeholder = 'Search']\")))\n",
    "searchbox.clear()\n",
    "keyword = \"#cat\"\n",
    "searchbox.send_keys(keyword)"
   ]
  },
  {
   "cell_type": "code",
   "execution_count": 9,
   "metadata": {},
   "outputs": [],
   "source": [
    "searchbox.send_keys(Keys.ENTER)"
   ]
  },
  {
   "cell_type": "code",
   "execution_count": 10,
   "metadata": {},
   "outputs": [
    {
     "output_type": "execute_result",
     "data": {
      "text/plain": [
       "['https://scontent-bos3-1.cdninstagram.com/v/t51.2885-15/e35/c0.179.1440.1440a/s150x150/153535833_768788124032706_1753446853739924088_n.jpg?tp=1&_nc_ht=scontent-bos3-1.cdninstagram.com&_nc_cat=1&_nc_ohc=siHidShJpdEAX_uLINn&oh=a906a2c2de18a63a398cf11bd0c40241&oe=6065F7DC',\n",
       " 'https://scontent-bos3-1.cdninstagram.com/v/t51.2885-15/sh0.08/e35/s640x640/155311238_3760385704056065_8175580852127387177_n.jpg?tp=1&_nc_ht=scontent-bos3-1.cdninstagram.com&_nc_cat=105&_nc_ohc=RyYSb9C6h3YAX8b4GxG&oh=4ac87738ab3f3afd95d4e66069e0b1ae&oe=6062C9C3',\n",
       " 'https://scontent-bos3-1.cdninstagram.com/v/t51.2885-15/sh0.08/e35/c0.54.915.915a/s640x640/154396930_2753312591648987_1531298054325279137_n.jpg?tp=1&_nc_ht=scontent-bos3-1.cdninstagram.com&_nc_cat=1&_nc_ohc=LBiaEE8bC2YAX_2HCkB&oh=8bd6703ef37175b68936103ad16229e6&oe=6064DA20',\n",
       " 'https://scontent-bos3-1.cdninstagram.com/v/t51.2885-15/sh0.08/e35/c0.90.720.720a/s640x640/154462065_791445045063536_6727464059526271186_n.jpg?tp=1&_nc_ht=scontent-bos3-1.cdninstagram.com&_nc_cat=1&_nc_ohc=tibTdMbzGP8AX_UFkYu&oh=87f2334ef5c2ba75e67cc6adf5406790&oe=603D3FF3',\n",
       " 'https://scontent-bos3-1.cdninstagram.com/v/t51.2885-15/sh0.08/e35/c0.180.1440.1440a/s640x640/152019426_129758745709141_9193771386042078821_n.jpg?tp=1&_nc_ht=scontent-bos3-1.cdninstagram.com&_nc_cat=101&_nc_ohc=6Tj9Y0-ZGBIAX8ILcSK&oh=db2b6f98cae3b18f030e922b89c9613b&oe=606689FE',\n",
       " 'https://scontent-bos3-1.cdninstagram.com/v/t51.2885-15/e35/153605129_2902716756663948_5913750856544844266_n.jpg?tp=1&_nc_ht=scontent-bos3-1.cdninstagram.com&_nc_cat=1&_nc_ohc=KFIGTRxw4TcAX9YNcj7&oh=85ac8126f80eb0f6eb766b831b15c4c2&oe=6064AAB2',\n",
       " 'https://scontent-bos3-1.cdninstagram.com/v/t51.2885-15/sh0.08/e35/c193.0.1053.1053a/s640x640/154348787_2824794994449681_8988666418169663692_n.jpg?tp=1&_nc_ht=scontent-bos3-1.cdninstagram.com&_nc_cat=109&_nc_ohc=NlqrvTcdagcAX9nX1e6&oh=8647f86f01291a94abeded4b011c70cc&oe=60647328',\n",
       " 'https://scontent-bos3-1.cdninstagram.com/v/t51.2885-15/sh0.08/e35/c0.180.1440.1440a/s640x640/155238779_179911353935973_1533908963953678234_n.jpg?tp=1&_nc_ht=scontent-bos3-1.cdninstagram.com&_nc_cat=109&_nc_ohc=Y9xN2R3tUk8AX9Xd72V&oh=f3ef54d9e32afd171c656f99e26bdace&oe=6063CBEB',\n",
       " 'https://scontent-bos3-1.cdninstagram.com/v/t51.2885-15/sh0.08/e35/c0.179.1440.1440a/s640x640/154640159_190567959065785_3504144728539689072_n.jpg?tp=1&_nc_ht=scontent-bos3-1.cdninstagram.com&_nc_cat=101&_nc_ohc=QlqG3ScdaLgAX-N_duv&oh=3e0d9cadf93153924067f8b53771d5a6&oe=60659ACF',\n",
       " 'https://scontent-bos3-1.cdninstagram.com/v/t51.2885-15/sh0.08/e35/s640x640/154214172_1098301023970896_7513348925280076759_n.jpg?tp=1&_nc_ht=scontent-bos3-1.cdninstagram.com&_nc_cat=100&_nc_ohc=xXqc80-iqGAAX-yfwPP&oh=13ada74bc6e42516568f5fd3eacfed1c&oe=603D911E',\n",
       " 'https://scontent-bos3-1.cdninstagram.com/v/t51.2885-15/sh0.08/e35/s640x640/154176771_257558089170892_1086359587149068805_n.jpg?tp=1&_nc_ht=scontent-bos3-1.cdninstagram.com&_nc_cat=104&_nc_ohc=JQbs6lv2OpcAX-RouPx&oh=fce35787ffd17390a5e30e8788580dd3&oe=60638054',\n",
       " 'https://scontent-bos3-1.cdninstagram.com/v/t51.2885-15/sh0.08/e35/s640x640/155031531_176254264063466_2488460973244359241_n.jpg?tp=1&_nc_ht=scontent-bos3-1.cdninstagram.com&_nc_cat=102&_nc_ohc=uy2xlXGOHycAX_drEi_&oh=a21b910ea706aedcbe89edeb5858c993&oe=6064534A',\n",
       " 'https://scontent-bos3-1.cdninstagram.com/v/t51.2885-15/sh0.08/e35/c0.90.720.720a/s640x640/154393582_995543487639808_8475363938618678364_n.jpg?tp=1&_nc_ht=scontent-bos3-1.cdninstagram.com&_nc_cat=104&_nc_ohc=BVlBEjrnuNkAX99OIfT&oh=e218d28d9b43879a3b2a864e01d8ed98&oe=603D751E',\n",
       " 'https://scontent-bos3-1.cdninstagram.com/v/t51.2885-15/sh0.08/e35/c51.0.977.977a/s640x640/154698677_878744489364137_2310415676422562939_n.jpg?tp=1&_nc_ht=scontent-bos3-1.cdninstagram.com&_nc_cat=105&_nc_ohc=G0pqXNpnv2gAX8gg6pG&oh=ab0da19395febb761318ef81552fd36d&oe=6063C2A1',\n",
       " 'https://scontent-bos3-1.cdninstagram.com/v/t51.2885-15/sh0.08/e35/c0.128.1126.1126a/s640x640/154815486_248064566956495_6039073409251204908_n.jpg?tp=1&_nc_ht=scontent-bos3-1.cdninstagram.com&_nc_cat=107&_nc_ohc=HTfmwQuSSvEAX-3Ek0k&oh=0c3f9274eb1f56cafda637bfe3266649&oe=6063C31A',\n",
       " 'https://scontent-bos3-1.cdninstagram.com/v/t51.2885-15/sh0.08/e35/s640x640/154137999_516517059527448_3159283742400945744_n.jpg?tp=1&_nc_ht=scontent-bos3-1.cdninstagram.com&_nc_cat=100&_nc_ohc=VsxrVMcw45QAX9o3APy&oh=62362a08bc5365f946f7338aa060e9e8&oe=603DA48A',\n",
       " 'https://scontent-bos3-1.cdninstagram.com/v/t51.2885-15/sh0.08/e35/s640x640/154318279_700518590627102_3336157512864702051_n.jpg?tp=1&_nc_ht=scontent-bos3-1.cdninstagram.com&_nc_cat=102&_nc_ohc=yzoC590qz_UAX93ET-o&oh=5cb774c7a84a4890dcb68f4dba8b9750&oe=6065685B',\n",
       " 'https://scontent-bos3-1.cdninstagram.com/v/t51.2885-15/sh0.08/e35/s640x640/154858084_743289649756780_7535895359322964786_n.jpg?tp=1&_nc_ht=scontent-bos3-1.cdninstagram.com&_nc_cat=104&_nc_ohc=GD3mwOqBi5gAX-aoqHi&oh=780fdcc9e2858452c272ab7b1aa2da90&oe=6062F6CE',\n",
       " 'https://scontent-bos3-1.cdninstagram.com/v/t51.2885-15/sh0.08/e35/s640x640/155912460_424231778683050_4162333072922355661_n.jpg?tp=1&_nc_ht=scontent-bos3-1.cdninstagram.com&_nc_cat=106&_nc_ohc=ogPMtouG8lMAX_4IPTK&oh=b67368e0aecb35b03f88463b317432c0&oe=606338EB',\n",
       " 'https://scontent-bos3-1.cdninstagram.com/v/t51.2885-15/sh0.08/e35/s640x640/154434138_270196317841962_931437685835554286_n.jpg?tp=1&_nc_ht=scontent-bos3-1.cdninstagram.com&_nc_cat=106&_nc_ohc=mIm9JRJPV7AAX9tdVRs&oh=3a91356add4e2f55a61fb28cd6c2351e&oe=6066216C',\n",
       " 'https://scontent-bos3-1.cdninstagram.com/v/t51.2885-15/sh0.08/e35/s640x640/154829430_520417548930456_453385041207969249_n.jpg?tp=1&_nc_ht=scontent-bos3-1.cdninstagram.com&_nc_cat=100&_nc_ohc=q84yYaeOS00AX-pETIX&oh=81ff914181171b5ac16f5ad72f9fdcc5&oe=6065CEAB',\n",
       " 'https://scontent-bos3-1.cdninstagram.com/v/t51.2885-15/sh0.08/e35/s640x640/150198221_499094228079306_2776646126398758056_n.jpg?tp=1&_nc_ht=scontent-bos3-1.cdninstagram.com&_nc_cat=106&_nc_ohc=sOinbg7YYHkAX_YgkmH&oh=34f5e75a729d2493ad18db69e76f8754&oe=60644CC9',\n",
       " 'https://scontent-bos3-1.cdninstagram.com/v/t51.2885-15/e35/154258537_2873220546246941_5330671796044993641_n.jpg?tp=1&_nc_ht=scontent-bos3-1.cdninstagram.com&_nc_cat=105&_nc_ohc=mCikBiq_8E4AX_aHY5N&oh=4b5c74dd2a6abe22cd464d833879f0ef&oe=6065886A',\n",
       " 'https://scontent-bos3-1.cdninstagram.com/v/t51.2885-15/sh0.08/e35/s640x640/155209372_425358988542424_8467780615390881440_n.jpg?tp=1&_nc_ht=scontent-bos3-1.cdninstagram.com&_nc_cat=104&_nc_ohc=NDCsG0k7oGUAX92liG1&oh=2c9abb546becce892e0677c47f5ba2e6&oe=60652BF5',\n",
       " 'https://scontent-bos3-1.cdninstagram.com/v/t51.2885-15/sh0.08/e35/s640x640/155202463_2909968262658945_4061322883028176611_n.jpg?tp=1&_nc_ht=scontent-bos3-1.cdninstagram.com&_nc_cat=109&_nc_ohc=9lWhhF0Sbr0AX8GVrMq&oh=8f7ef3425e13c1697efbfbc1d957d07b&oe=60655EA9',\n",
       " 'https://scontent-bos3-1.cdninstagram.com/v/t51.2885-15/sh0.08/e35/s640x640/154276235_945130022558473_175284794456251368_n.jpg?tp=1&_nc_ht=scontent-bos3-1.cdninstagram.com&_nc_cat=101&_nc_ohc=KyVtrAmxQjwAX_-NwfR&oh=09771173ceaf3c3d4767f46136d4226c&oe=60665ECF',\n",
       " 'https://scontent-bos3-1.cdninstagram.com/v/t51.2885-15/sh0.08/e35/c180.0.1079.1079a/s640x640/153066153_1172473536522376_3912709509272619356_n.jpg?tp=1&_nc_ht=scontent-bos3-1.cdninstagram.com&_nc_cat=104&_nc_ohc=_Nk774jc-iMAX8MKXsU&oh=de9dd1be31438a5beab2e605517a9920&oe=6064A17F',\n",
       " 'https://scontent-bos3-1.cdninstagram.com/v/t51.2885-15/sh0.08/e35/s640x640/154382609_266978304954190_6517182395869591296_n.jpg?tp=1&_nc_ht=scontent-bos3-1.cdninstagram.com&_nc_cat=110&_nc_ohc=wC3YbWRcxXoAX-6zV6g&oh=a1e2d92444a21469b56a45dcf51e9fc2&oe=6062B3DE',\n",
       " 'https://scontent-bos3-1.cdninstagram.com/v/t51.2885-15/sh0.08/e35/s640x640/155567144_144319610874761_7647813065536582144_n.jpg?tp=1&_nc_ht=scontent-bos3-1.cdninstagram.com&_nc_cat=105&_nc_ohc=TLqcCJ-RhiAAX_x2wpY&oh=2d3668b3624fc694856b9818c496820b&oe=603D57B5',\n",
       " 'https://scontent-bos3-1.cdninstagram.com/v/t51.2885-15/sh0.08/e35/s640x640/154145802_469446794235204_2123074883815669700_n.jpg?tp=1&_nc_ht=scontent-bos3-1.cdninstagram.com&_nc_cat=100&_nc_ohc=U_trjgCZv0UAX-x83iS&oh=67cb23221b447690af8d43d25f483f74&oe=606443C4',\n",
       " 'https://scontent-bos3-1.cdninstagram.com/v/t51.2885-15/sh0.08/e35/s640x640/151271144_180596566903894_8581104327314135829_n.jpg?tp=1&_nc_ht=scontent-bos3-1.cdninstagram.com&_nc_cat=110&_nc_ohc=M-TfQ97ovmIAX8SdbyI&oh=d96e77c8fefcedb94d1f32216324daf2&oe=603D8545',\n",
       " 'https://scontent-bos3-1.cdninstagram.com/v/t51.2885-15/sh0.08/e35/c0.0.1439.1439a/s640x640/154914960_437072344070605_4898472687149165883_n.jpg?tp=1&_nc_ht=scontent-bos3-1.cdninstagram.com&_nc_cat=101&_nc_ohc=lsGUdF3qic4AX9tvDVm&oh=68a72e230c41a7b12abfb3340bba8b14&oe=60648FBA',\n",
       " 'https://scontent-bos3-1.cdninstagram.com/v/t51.2885-15/sh0.08/e35/s640x640/154477278_173316644396307_5900542941172329790_n.jpg?tp=1&_nc_ht=scontent-bos3-1.cdninstagram.com&_nc_cat=103&_nc_ohc=4Xg3RPHpuXAAX-RarRL&oh=f1b6a1e2d457ae459461b9f92f33b2c0&oe=60650DEF',\n",
       " 'https://scontent-bos3-1.cdninstagram.com/v/t51.2885-15/sh0.08/e35/c79.0.1282.1282a/s640x640/155459573_435866660997742_9067720961925289150_n.jpg?tp=1&_nc_ht=scontent-bos3-1.cdninstagram.com&_nc_cat=110&_nc_ohc=SJvscbIe2FUAX8qjKS_&oh=495b7f6519333e7e65791a33565f3637&oe=6063C90D',\n",
       " 'https://scontent-bos3-1.cdninstagram.com/v/t51.2885-15/sh0.08/e35/s640x640/151260928_225669982571819_1237108007334429333_n.jpg?tp=1&_nc_ht=scontent-bos3-1.cdninstagram.com&_nc_cat=111&_nc_ohc=dxwF27jKwQoAX8LW9r7&oh=bb918ec41ea75d7fd359f5be898dbddc&oe=6065D489',\n",
       " 'https://scontent-bos3-1.cdninstagram.com/v/t51.2885-15/e15/c0.76.640.640a/155379363_1749864795177062_2420610689397239087_n.jpg?tp=1&_nc_ht=scontent-bos3-1.cdninstagram.com&_nc_cat=102&_nc_ohc=Vqwy84k-AeAAX8xBB0C&oh=c48b3fdbbdf8ca113e6567aa9f9351a1&oe=603D4CC1',\n",
       " 'https://scontent-bos3-1.cdninstagram.com/v/t51.2885-15/sh0.08/e35/s640x640/154373118_790485394880792_6836064778257035699_n.jpg?tp=1&_nc_ht=scontent-bos3-1.cdninstagram.com&_nc_cat=108&_nc_ohc=2JYbX_YR6AAAX9Vk0eA&oh=b10a574ba598ec0e88b5243c3c477302&oe=6064C91B',\n",
       " 'https://scontent-bos3-1.cdninstagram.com/v/t51.2885-15/sh0.08/e35/s640x640/155195921_3709230172531845_1836482931459817539_n.jpg?tp=1&_nc_ht=scontent-bos3-1.cdninstagram.com&_nc_cat=109&_nc_ohc=NWAHGXEfcZ8AX-aBCGQ&oh=656bacf1295a0fdc3947a9626f0b767b&oe=603D4A8D',\n",
       " 'https://scontent-bos3-1.cdninstagram.com/v/t51.2885-15/sh0.08/e35/c0.180.1440.1440a/s640x640/154740523_467251117983001_1124933317377651257_n.jpg?tp=1&_nc_ht=scontent-bos3-1.cdninstagram.com&_nc_cat=101&_nc_ohc=T_kxTWtihrcAX8Vsveg&oh=dc191196cd80dd3e2cb08cb759b38add&oe=606451F3',\n",
       " 'https://scontent-bos3-1.cdninstagram.com/v/t51.2885-15/sh0.08/e35/s640x640/155582401_904926406975883_8676167251924783428_n.jpg?tp=1&_nc_ht=scontent-bos3-1.cdninstagram.com&_nc_cat=111&_nc_ohc=h8Nn_UNzP8IAX_0Pw36&oh=ee959a66b15c3fe914860fee5d36ec0d&oe=60640573',\n",
       " 'https://scontent-bos3-1.cdninstagram.com/v/t51.2885-15/sh0.08/e35/c87.0.1080.1080a/s640x640/155251394_138779168112925_1875421037374756827_n.jpg?tp=1&_nc_ht=scontent-bos3-1.cdninstagram.com&_nc_cat=101&_nc_ohc=lFmHB_7VmrUAX_XBfeZ&oh=68b055debbc9cb7a8aed869521fc1dc8&oe=60632EEE',\n",
       " 'https://scontent-bos3-1.cdninstagram.com/v/t51.2885-15/sh0.08/e35/c0.0.1439.1439a/s640x640/154906487_965582713846531_5390480505782725152_n.jpg?tp=1&_nc_ht=scontent-bos3-1.cdninstagram.com&_nc_cat=107&_nc_ohc=GbYINQVSUYoAX9hNJvl&oh=e6c098e84cef04a6b92b8ecec862790b&oe=6065954E',\n",
       " 'https://scontent-bos3-1.cdninstagram.com/v/t51.2885-15/sh0.08/e35/c0.90.720.720a/s640x640/151709359_171002007976621_5600444383572954025_n.jpg?tp=1&_nc_ht=scontent-bos3-1.cdninstagram.com&_nc_cat=101&_nc_ohc=2Oo-1wKAfJsAX86uo9W&oh=0c3c42a4194d0c3989d349f720264d5a&oe=603D666E',\n",
       " 'https://scontent-bos3-1.cdninstagram.com/v/t51.2885-15/sh0.08/e35/s640x640/153163125_182335183354409_8305219379726039593_n.jpg?tp=1&_nc_ht=scontent-bos3-1.cdninstagram.com&_nc_cat=105&_nc_ohc=Cvapatl0QoYAX_hx8WD&oh=5a22434831d14414324cac152e5092d1&oe=606639BB',\n",
       " 'https://scontent-bos3-1.cdninstagram.com/v/t51.2885-15/sh0.08/e35/c0.180.1440.1440a/s640x640/154805470_701230270482172_1297908206031739489_n.jpg?tp=1&_nc_ht=scontent-bos3-1.cdninstagram.com&_nc_cat=104&_nc_ohc=J8VmB4Y9TzQAX-uV3Xm&oh=df54b4c1d97c8e8d91d9f9e198a5b103&oe=606463AD',\n",
       " 'https://scontent-bos3-1.cdninstagram.com/v/t51.2885-15/sh0.08/e35/c2.0.1436.1436a/s640x640/154698881_3795250983867620_2511549101396968912_n.jpg?tp=1&_nc_ht=scontent-bos3-1.cdninstagram.com&_nc_cat=108&_nc_ohc=cwxiGxd5hiUAX_L3zNx&oh=63699e974a85f0d267cf40e0452cbbc9&oe=6064993D',\n",
       " 'https://www.instagram.com/static/images/web/mobile_nav_type_logo.png/735145cfe0a4.png',\n",
       " 'https://scontent-bos3-1.cdninstagram.com/v/t51.2885-19/s150x150/11931198_1137128446300648_1580300108_a.jpg?tp=1&_nc_ht=scontent-bos3-1.cdninstagram.com&_nc_ohc=-ubG5k5nItUAX9aKmfq&oh=e308fa0ddaf6f3789f45ad8f2e2b3f4d&oe=60647E2F']"
      ]
     },
     "metadata": {},
     "execution_count": 10
    }
   ],
   "source": [
    "driver.execute_script(\"window.scrollTo(0,4000);\")\n",
    "\n",
    "images = driver.find_elements_by_tag_name('img')\n",
    "images = [image.get_attribute('src') for image in images]\n",
    "\n",
    "images"
   ]
  },
  {
   "source": [
    "Save Images to Computer"
   ],
   "cell_type": "markdown",
   "metadata": {}
  },
  {
   "cell_type": "code",
   "execution_count": 12,
   "metadata": {},
   "outputs": [
    {
     "output_type": "execute_result",
     "data": {
      "text/plain": [
       "'c:\\\\Users\\\\alex7\\\\Desktop\\\\VS Code\\\\Selenium\\\\cats'"
      ]
     },
     "metadata": {},
     "execution_count": 12
    }
   ],
   "source": [
    "path = os.getcwd()\n",
    "path = os.path.join(path, keyword[1:] + \"s\")\n",
    "\n",
    "os.mkdir(path)\n",
    "path"
   ]
  },
  {
   "cell_type": "code",
   "execution_count": 13,
   "metadata": {},
   "outputs": [],
   "source": [
    "counter = 0\n",
    "for image in images:\n",
    "    save_as = os.path.join(path, keyword[1:] + str(counter) + '.jpg')\n",
    "    wget.download(image, save_as)\n",
    "    counter += 1"
   ]
  }
 ]
}
